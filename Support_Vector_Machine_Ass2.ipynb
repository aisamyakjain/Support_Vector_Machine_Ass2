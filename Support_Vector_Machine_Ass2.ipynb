{
 "cells": [
  {
   "cell_type": "markdown",
   "id": "e7836e61-063d-4482-ac72-44c1b34bf715",
   "metadata": {},
   "source": [
    "Q1. What is the relationship between polynomial functions and kernel functions in machine learning \n",
    "algorithms?\n",
    "\n",
    "Answer: Polynomial functions are a type of kernel function used in machine learning algorithms, particularly support vector machines, to capture non-linear relationships and operate effectively in higher-dimensional spaces."
   ]
  },
  {
   "cell_type": "markdown",
   "id": "bb3c080c-3039-467a-869a-b9a679f7dd1e",
   "metadata": {},
   "source": [
    "Q3. How does increasing the value of epsilon affect the number of support vectors in SVR in 25 words\n",
    "\n",
    "Answer: Increasing the value of epsilon in Support Vector Regression (SVR) generally leads to an increase in the number of support vectors as it expands the margin tolerance for deviations from the regression line."
   ]
  },
  {
   "cell_type": "markdown",
   "id": "2dae0fbb-fb3d-4cfb-9bc7-0f7ef87d6c73",
   "metadata": {},
   "source": [
    "Q4. How does the choice of kernel function, C parameter, epsilon parameter, and gamma parameter \n",
    "affect the performance of Support Vector Regression (SVR)? Can you explain how each parameter works \n",
    "and provide examples of when you might want to increase or decrease its value?\n",
    "\n",
    "\n",
    "Answer: The choice of kernel function, C parameter, epsilon parameter, and gamma parameter in Support Vector Regression (SVR) can significantly impact its performance:\n",
    "\n",
    "1. Kernel Function: The kernel function determines the type of non-linear mapping used in SVR. Examples include linear, polynomial, radial basis function (RBF), and sigmoid kernels. The choice depends on the dataset's characteristics and desired non-linearity.\n",
    "\n",
    "2. C Parameter: The C parameter controls the trade-off between achieving a small training error and a larger margin. Increasing C makes the model more sensitive to individual data points, potentially leading to overfitting. Decreasing C encourages a larger margin, but it may sacrifice accuracy on individual points.\n",
    "\n",
    "3. Epsilon Parameter: Epsilon (ε) defines the margin of tolerance around the regression line. It determines the width of the tube within which errors are tolerated. Increasing epsilon allows larger deviations from the regression line, resulting in a wider margin.\n",
    "\n",
    "4. Gamma Parameter: The gamma parameter influences the shape and reach of the RBF kernel. A higher gamma value leads to a narrower, more localized decision boundary, making the model more prone to overfitting. Lower gamma values result in a smoother decision boundary with a broader influence.\n",
    "\n",
    "When to adjust parameter values:\n",
    "- Kernel Function: Choose the appropriate kernel based on the dataset's non-linear characteristics and the problem at hand.\n",
    "- C Parameter: Increase C when you want a more precise fit or when overfitting is not a concern. Decrease C to prioritize a larger margin and to avoid overfitting.\n",
    "- Epsilon Parameter: Increase epsilon when you want to allow larger deviations from the regression line or when you expect more noise in the data.\n",
    "- Gamma Parameter: Increase gamma to create a more complex and localized decision boundary when dealing with complex, well-separated data. Decrease gamma to smooth the decision boundary for more generalization.\n",
    "\n",
    "The optimal parameter values depend on the specific dataset and problem, and experimentation is often necessary to achieve the best performance. "
   ]
  },
  {
   "cell_type": "code",
   "execution_count": null,
   "id": "1c2dae5f-e66a-410b-bd83-b078b9852e78",
   "metadata": {},
   "outputs": [],
   "source": []
  }
 ],
 "metadata": {
  "kernelspec": {
   "display_name": "Python 3 (ipykernel)",
   "language": "python",
   "name": "python3"
  },
  "language_info": {
   "codemirror_mode": {
    "name": "ipython",
    "version": 3
   },
   "file_extension": ".py",
   "mimetype": "text/x-python",
   "name": "python",
   "nbconvert_exporter": "python",
   "pygments_lexer": "ipython3",
   "version": "3.10.8"
  }
 },
 "nbformat": 4,
 "nbformat_minor": 5
}
